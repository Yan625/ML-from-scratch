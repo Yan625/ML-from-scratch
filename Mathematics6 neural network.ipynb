![](images/nn1.png)
![](images/nn2.png)
